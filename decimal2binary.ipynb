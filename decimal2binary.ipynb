{
 "cells": [
  {
   "cell_type": "code",
   "execution_count": 68,
   "id": "943d32ff",
   "metadata": {},
   "outputs": [
    {
     "name": "stdout",
     "output_type": "stream",
     "text": [
      "Decimal number: -45\n"
     ]
    }
   ],
   "source": [
    "try:\n",
    "    inp = int(input(\"Decimal number: \"))\n",
    "except:\n",
    "    print(\"404 ERROR must be an integer\")"
   ]
  },
  {
   "cell_type": "code",
   "execution_count": 69,
   "id": "10208054",
   "metadata": {},
   "outputs": [],
   "source": [
    "binary = []\n",
    "while inp != 1:\n",
    "    \n",
    "    if inp < 0:\n",
    "        inp = -1*inp\n",
    "        verification = True\n",
    "        \n",
    "    div = int(inp//2)\n",
    "    rem = inp - div*2 #finding remainder\n",
    "    binary.append(rem)\n",
    "    inp = div\n",
    "    if inp == 1:\n",
    "        binary.append(inp)\n",
    "        binary = binary[::-1] #we must reverse finded numbers\n",
    "        if verification == True:\n",
    "            binary[0] = binary[0]*-1\n",
    "            \n",
    "    "
   ]
  },
  {
   "cell_type": "code",
   "execution_count": 70,
   "id": "baed3ad3",
   "metadata": {},
   "outputs": [
    {
     "data": {
      "text/plain": [
       "[-1, 0, 1, 1, 0, 1]"
      ]
     },
     "execution_count": 70,
     "metadata": {},
     "output_type": "execute_result"
    }
   ],
   "source": [
    "binary"
   ]
  }
 ],
 "metadata": {
  "kernelspec": {
   "display_name": "Python 3 (ipykernel)",
   "language": "python",
   "name": "python3"
  },
  "language_info": {
   "codemirror_mode": {
    "name": "ipython",
    "version": 3
   },
   "file_extension": ".py",
   "mimetype": "text/x-python",
   "name": "python",
   "nbconvert_exporter": "python",
   "pygments_lexer": "ipython3",
   "version": "3.9.12"
  }
 },
 "nbformat": 4,
 "nbformat_minor": 5
}
